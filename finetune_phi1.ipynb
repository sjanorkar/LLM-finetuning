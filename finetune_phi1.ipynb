{
  "nbformat": 4,
  "nbformat_minor": 0,
  "metadata": {
    "colab": {
      "provenance": [],
      "authorship_tag": "ABX9TyPHomqBhy6KDnsSXVRO76a3",
      "include_colab_link": true
    },
    "kernelspec": {
      "name": "python3",
      "display_name": "Python 3"
    },
    "language_info": {
      "name": "python"
    }
  },
  "cells": [
    {
      "cell_type": "markdown",
      "metadata": {
        "id": "view-in-github",
        "colab_type": "text"
      },
      "source": [
        "<a href=\"https://colab.research.google.com/github/sjanorkar/LLM-finetuning/blob/main/finetune_phi1.ipynb\" target=\"_parent\"><img src=\"https://colab.research.google.com/assets/colab-badge.svg\" alt=\"Open In Colab\"/></a>"
      ]
    },
    {
      "cell_type": "code",
      "execution_count": null,
      "metadata": {
        "id": "bzvsv0DJaPnj"
      },
      "outputs": [],
      "source": [
        "!pip3 install bitsandbytes==0.41.3\n",
        "!pip3 install peft==0.11.1\n",
        "!pip3 install trl==0.8.6\n",
        "!pip3 install accelerate==0.30.1\n",
        "!pip3 install datasets==2.19.2\n",
        "!pip3 install transformers==4.41.2"
      ]
    },
    {
      "cell_type": "code",
      "source": [
        "import torch\n",
        "import transformers\n",
        "from transformers import AutoTokenizer, AutoModelForCausalLM, BitsAndBytesConfig, TrainingArguments\n",
        "from peft import (LoraConfig, get_peft_model, get_peft_model_state_dict)\n",
        "from datasets import load_dataset\n",
        "from trl import SFTTrainer, DataCollatorForCompletionOnlyLM"
      ],
      "metadata": {
        "id": "YAMpaMBPa9nH"
      },
      "execution_count": null,
      "outputs": []
    },
    {
      "cell_type": "code",
      "source": [
        "dataset = \"microsoft/orca-math-word-problems-200k\"\n",
        "model_id = \"tiiuae/falcon-rw-1b\""
      ],
      "metadata": {
        "id": "8fh4GWl-bDG9"
      },
      "execution_count": null,
      "outputs": []
    },
    {
      "cell_type": "code",
      "source": [
        "dataset = load_dataset(dataset, split=\"train\")\n",
        "\n",
        "question = dataset[\"question\"]\n",
        "answer = dataset[\"answer\"]\n",
        "\n",
        "import datasets\n",
        "from datasets import Dataset\n",
        "\n",
        "temp_dataset_1 = Dataset.from_dict({\"question\": question[0:10000], \"answer\": answer[0:1000]})\n",
        "dataset_1 = datasets.DatasetDict({\"train\": temp_dataset_1})\n",
        "dataset_1"
      ],
      "metadata": {
        "id": "cU-C4kwXbAM3"
      },
      "execution_count": null,
      "outputs": []
    }
  ]
}